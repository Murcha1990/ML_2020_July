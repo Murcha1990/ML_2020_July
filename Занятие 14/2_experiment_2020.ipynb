{
 "cells": [
  {
   "cell_type": "markdown",
   "metadata": {},
   "source": [
    "# Анализ эксперимента\n",
    "\n",
    "### Цель: оценить результат эксперимента (сравнить средние значения двух выборок) с помощью доверительного интервала."
   ]
  },
  {
   "cell_type": "code",
   "execution_count": null,
   "metadata": {},
   "outputs": [],
   "source": [
    "%matplotlib inline\n",
    "from matplotlib import pyplot as plt\n",
    "from scipy import stats as st\n",
    "import numpy as np\n",
    "from numpy.random import binomial\n",
    "from numpy.random import normal"
   ]
  },
  {
   "cell_type": "markdown",
   "metadata": {},
   "source": [
    "## Сгенерируем семплы\n",
    "\n",
    "Два набора данных, распределенных по биномиальному закону. В каждом эксперименте по 100 наблюдений."
   ]
  },
  {
   "cell_type": "code",
   "execution_count": null,
   "metadata": {},
   "outputs": [],
   "source": [
    "P1 = 0.1\n",
    "P2 = 0.11\n",
    "N1 = 100\n",
    "N2 = 100"
   ]
  },
  {
   "cell_type": "code",
   "execution_count": null,
   "metadata": {},
   "outputs": [],
   "source": [
    "sample1 = binomial(1, P1, N1)\n",
    "sample2 = binomial(1, P2, N2)"
   ]
  },
  {
   "cell_type": "code",
   "execution_count": null,
   "metadata": {},
   "outputs": [],
   "source": [
    "mean1 = np.mean(sample1)\n",
    "mean2 = np.mean(sample2)\n",
    "diff = mean1 - mean2\n",
    "print('mean1: %s' % mean1)\n",
    "print('mean2: %s' % mean2)\n",
    "print('mean1 - mean2: %s' % diff)"
   ]
  },
  {
   "cell_type": "markdown",
   "metadata": {},
   "source": [
    "**Истинные вероятности отличаются на 0.01. Но в эксперименте получилось, что разность другая. Поэтому только на разность средних опираться нельзя, необходимо смотреть на распределения.**"
   ]
  },
  {
   "cell_type": "markdown",
   "metadata": {},
   "source": [
    "## Оценим выборочную дисперсию\n",
    "\n",
    "Предполагаем, что выборки из одного и того же распределения. Считаем дисперсию для этого распределения."
   ]
  },
  {
   "cell_type": "code",
   "execution_count": null,
   "metadata": {},
   "outputs": [],
   "source": [
    "std_pool = np.sqrt(mean1 * (1 - mean1) / N1 + mean2 * (1 - mean2) / N2)"
   ]
  },
  {
   "cell_type": "code",
   "execution_count": null,
   "metadata": {},
   "outputs": [],
   "source": [
    "confidence = 0.975\n",
    "z = st.norm.ppf(confidence)\n",
    "\n",
    "margin = z * std_pool\n",
    "print('z: %s' % z)"
   ]
  },
  {
   "cell_type": "markdown",
   "metadata": {},
   "source": [
    "## Случайно ли различие в средних?\n",
    "\n",
    "Гипотеза H0 состоит в том, что распределения одинаковы. Отвергаем её, если |diff| > margin."
   ]
  },
  {
   "cell_type": "code",
   "execution_count": null,
   "metadata": {},
   "outputs": [],
   "source": [
    "print('margin: %s' % margin)\n",
    "print('diff: %s' % diff)\n",
    "print('Are they different (diff > margin)? -> %s' % (abs(diff) > margin))"
   ]
  },
  {
   "cell_type": "markdown",
   "metadata": {},
   "source": [
    "Эквивалентная, но по-другому записанная проверка"
   ]
  },
  {
   "cell_type": "code",
   "execution_count": null,
   "metadata": {},
   "outputs": [],
   "source": [
    "z_stat = abs(diff) / std_pool\n",
    "print('Эквивалентная проверка:', z_stat > z)"
   ]
  },
  {
   "cell_type": "markdown",
   "metadata": {},
   "source": [
    "***Результат: статистика говорит, что выборки из одного распределения.***\n",
    "\n",
    "То есть если в каждом эксперименте 100 наблюдений, этого недостаточно для того, чтобы статистически выявить различия в 1% вероятности.\n",
    "\n",
    "### Задание.\n",
    "\n",
    "Попробуйте взять N1=N2=1000 наблюдений и посмотреть на результат проверки гипотезы? Запустите код несколько раз. Сколько раз получаем верный результат?\n",
    "\n",
    "Теперь возьмите N1=N2=10000.\n",
    "\n",
    "Затем возьмите N1=N2=100000."
   ]
  },
  {
   "cell_type": "markdown",
   "metadata": {},
   "source": [
    "### Определить минимальное количество наблюдений в эксперименте, при котором различие вероятностей в 1% будет значимым: требуется построить критерий мощности 90%.\n",
    "\n",
    "Хотим найти минимальное число наблюдений в эксперименте, чтобы из 500 экспериментов хотя бы в 90% случаев мы приняли верное решение, то есть отклонили гипотезу о том, что выборки из одного распределения."
   ]
  },
  {
   "cell_type": "code",
   "execution_count": null,
   "metadata": {},
   "outputs": [],
   "source": [
    "#TODO: сгенерировать два набора экспериментов, в каждом по num_exp экспериментов с N наблюдениями\n",
    "#внутри эксперимента и с вероятностями P1 и P2.\n",
    "#Для каждого размера выборки N посчитать долю выборок, для которых abs(diff) > margin.\n",
    "#Нам нужно минимальное N такое, что эта доля >= 0.9 (N ищем в цикле).\n",
    "\n",
    "from tqdm import tqdm_notebook\n",
    "\n",
    "num_exp = 500\n",
    "Res = []\n",
    "\n",
    "for N in tqdm_notebook(np.arange(10000,100000,1000)): #ищем с маленьким шагом\n",
    "    experimentsA = binomial(1, P1, (num_exp, N))\n",
    "    experimentsB = binomial(1, P2, (num_exp, N))\n",
    "    \n",
    "    meanA = np.array([np.mean(exp) for exp in experimentsA])\n",
    "    meanB = np.array([np.mean(exp) for exp in experimentsB])\n",
    "    \n",
    "    diff = abs(meanA - meanB)\n",
    "    std_pool = np.sqrt(meanA * (1 - meanA) / N + meanB * (1 - meanB) / N)\n",
    "    \n",
    "    z_stat = diff / std_pool\n",
    "    \n",
    "    res = sum(z_stat > z) / num_exp #доля верно отклоненных гипотез\n",
    "\n",
    "    Res.append(res)\n",
    "    \n",
    "    if res >= 0.9:\n",
    "        print(N)\n",
    "        break"
   ]
  },
  {
   "cell_type": "code",
   "execution_count": null,
   "metadata": {},
   "outputs": [],
   "source": [
    "Res"
   ]
  },
  {
   "cell_type": "code",
   "execution_count": null,
   "metadata": {},
   "outputs": [],
   "source": [
    "plt.plot(Res)"
   ]
  },
  {
   "cell_type": "code",
   "execution_count": null,
   "metadata": {},
   "outputs": [],
   "source": []
  }
 ],
 "metadata": {
  "kernelspec": {
   "display_name": "Python 3",
   "language": "python",
   "name": "python3"
  },
  "language_info": {
   "codemirror_mode": {
    "name": "ipython",
    "version": 3
   },
   "file_extension": ".py",
   "mimetype": "text/x-python",
   "name": "python",
   "nbconvert_exporter": "python",
   "pygments_lexer": "ipython3",
   "version": "3.6.6"
  }
 },
 "nbformat": 4,
 "nbformat_minor": 2
}
