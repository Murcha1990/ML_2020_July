{
 "cells": [
  {
   "cell_type": "markdown",
   "metadata": {},
   "source": [
    "# Связь биномиального распределения с нормальным\n",
    "\n",
    "### Цель: посмотреть, при каком количестве наблюдений в эксперименте вместо биномиального распределения можно использовать нормальное"
   ]
  },
  {
   "cell_type": "code",
   "execution_count": null,
   "metadata": {},
   "outputs": [],
   "source": [
    "%matplotlib inline\n",
    "from matplotlib import pyplot as plt\n",
    "from scipy import stats as st\n",
    "import numpy as np\n",
    "from numpy.random import binomial\n",
    "from numpy.random import normal"
   ]
  },
  {
   "cell_type": "markdown",
   "metadata": {},
   "source": [
    "## Сгенерируем семпл данных\n",
    "\n",
    "Сгенерируем точки из биномиального распределения: N=20 точек с вероятностью P=0.1 успеха."
   ]
  },
  {
   "cell_type": "code",
   "execution_count": null,
   "metadata": {},
   "outputs": [],
   "source": [
    "P = 0.1  # convertion rate\n",
    "N = 20   # sample size"
   ]
  },
  {
   "cell_type": "code",
   "execution_count": null,
   "metadata": {},
   "outputs": [],
   "source": [
    "sample = binomial(1, P, N)\n",
    "print('sample: %s' % sample)\n",
    "print('mean: %s' % np.mean(sample))"
   ]
  },
  {
   "cell_type": "markdown",
   "metadata": {},
   "source": [
    "### Задание 1.\n",
    "\n",
    "Сгенерируйте 200 точек из биномиального распределения с вероятностью P=0.1 успеха. Запустите ячейку несколько раз. Сравните с результатом в предыдущей ячейке. В чем разница?"
   ]
  },
  {
   "cell_type": "code",
   "execution_count": null,
   "metadata": {},
   "outputs": [],
   "source": [
    "#your code here"
   ]
  },
  {
   "cell_type": "markdown",
   "metadata": {},
   "source": [
    "## Оценим параметры распределения\n",
    "\n",
    "Проведем M=1000 таких экспериментов."
   ]
  },
  {
   "cell_type": "code",
   "execution_count": null,
   "metadata": {},
   "outputs": [],
   "source": [
    "M = 1000  # number of experiments"
   ]
  },
  {
   "cell_type": "code",
   "execution_count": null,
   "metadata": {},
   "outputs": [],
   "source": [
    "experiments = binomial(1, P, (M, N))\n",
    "print('experiemnts shape: %sх%s' % experiments.shape)"
   ]
  },
  {
   "cell_type": "code",
   "execution_count": null,
   "metadata": {},
   "outputs": [],
   "source": [
    "# TODO: оценить среднее для каждого эксперимента\n",
    "Means = [experiment.mean() for experiment in experiments]"
   ]
  },
  {
   "cell_type": "code",
   "execution_count": null,
   "metadata": {},
   "outputs": [],
   "source": [
    "# TODO: оценить дисперсию средних\n",
    "np.std(Means)"
   ]
  },
  {
   "cell_type": "markdown",
   "metadata": {},
   "source": [
    "### Задание 2. \n",
    "\n",
    "Только что мы провели M=1000 экспериментов,  при этом в каждом эксперименте было N = 20 наблюдений. Что произойдет с дисперсией средних, если поставим N=200?"
   ]
  },
  {
   "cell_type": "code",
   "execution_count": null,
   "metadata": {},
   "outputs": [],
   "source": [
    "#your code here"
   ]
  },
  {
   "cell_type": "markdown",
   "metadata": {},
   "source": [
    "## Оценим зависимость дисперсии от числа наблюдений (в одном эксперименте)\n",
    "\n",
    "**Мы должны увидеть, что дисперсия убывает при увеличении N. Потому что дисперсия выборочного среднего равна $\\sigma^2/N,$ где $\\sigma^2 = P(1 - P)$ - дисперсия одного наблюдения.**"
   ]
  },
  {
   "cell_type": "code",
   "execution_count": null,
   "metadata": {},
   "outputs": [],
   "source": [
    "# TODO: построить график зависимости дисперсии от числа наблюдений\n",
    "Stds = []\n",
    "\n",
    "for N in np.arange(10,1000,10):\n",
    "    experiments = binomial(1, P, (M, N))\n",
    "    \n",
    "    Means = [experiment.mean() for experiment in experiments]\n",
    "    std = np.std(Means)\n",
    "    Stds.append(std)\n",
    "    \n",
    "plt.plot(Stds)"
   ]
  },
  {
   "cell_type": "markdown",
   "metadata": {},
   "source": [
    "## Сравним распределение средних с нормальным\n",
    "(хотим понять, насколько хорошо наше биномиальное распределние приближается нормальным)\n",
    "\n",
    "**Такие mean и std должны теоретически получиться у нормального закона при достаточно большом N**"
   ]
  },
  {
   "cell_type": "code",
   "execution_count": null,
   "metadata": {},
   "outputs": [],
   "source": [
    "# https://en.wikipedia.org/wiki/Bernoulli_distribution\n",
    "mean = P\n",
    "std = np.sqrt(P * (1 - P) / N)"
   ]
  },
  {
   "cell_type": "code",
   "execution_count": null,
   "metadata": {},
   "outputs": [],
   "source": [
    "# TODO: сравнить распределение с нормальным\n",
    "\n",
    "# Fit a normal distribution to the data:\n",
    "m, std = np.mean(Means), np.std(Means) #среднее и дисперсия у исходного бин.распределения и у нормального (которым приближаем) одинаковая\n",
    "\n",
    "# Plot the histogram.\n",
    "plt.hist(Means, bins=20, density=True, alpha=0.6, color='g')\n",
    "\n",
    "# Plot the PDF.\n",
    "xmin, xmax = plt.xlim()\n",
    "x = np.linspace(xmin, xmax, 100)\n",
    "p = st.norm.pdf(x, m, std)\n",
    "plt.plot(x, p, 'k', linewidth=2)\n",
    "title = \"Fit results: m = %.2f,  std = %.2f\" % (m, std)\n",
    "plt.title(title)"
   ]
  },
  {
   "cell_type": "code",
   "execution_count": null,
   "metadata": {},
   "outputs": [],
   "source": [
    "import seaborn as sns\n",
    "\n",
    "sns.distplot(Means, hist=True, kde=True,\n",
    "             bins=20, color = 'darkblue', \n",
    "             hist_kws={'edgecolor':'black'},\n",
    "             kde_kws={'linewidth': 4})"
   ]
  },
  {
   "cell_type": "markdown",
   "metadata": {},
   "source": [
    "## Доверительный интервал\n",
    "\n",
    "Доверительный интервал для истинного значения вероятности P."
   ]
  },
  {
   "cell_type": "code",
   "execution_count": null,
   "metadata": {},
   "outputs": [],
   "source": [
    "confidence = 0.975 #по 0.025 с каждой стороны, то есть вероятность попадания в интервал 95%.\n",
    "z = st.norm.ppf(confidence) #квантиль уровня 0.975\n",
    "margin = z * std #формула из статистики - отступ\n",
    "print('z: %s' % z)\n",
    "print('margin: %s' % m)\n",
    "print('interval: %s %s' % (P - margin, P + margin))"
   ]
  },
  {
   "cell_type": "markdown",
   "metadata": {},
   "source": [
    "**Должна быть примерно 0.05**"
   ]
  },
  {
   "cell_type": "code",
   "execution_count": null,
   "metadata": {},
   "outputs": [],
   "source": [
    "# TODO: оценить долю средних, вышедших за границы доверительного интервала в эксперименте\n",
    "MeansArr = np.array(Means)\n",
    "len(MeansArr[(MeansArr < P - margin) | (MeansArr > P + margin)]) / len(MeansArr)"
   ]
  }
 ],
 "metadata": {
  "kernelspec": {
   "display_name": "Python 3",
   "language": "python",
   "name": "python3"
  },
  "language_info": {
   "codemirror_mode": {
    "name": "ipython",
    "version": 3
   },
   "file_extension": ".py",
   "mimetype": "text/x-python",
   "name": "python",
   "nbconvert_exporter": "python",
   "pygments_lexer": "ipython3",
   "version": "3.6.6"
  }
 },
 "nbformat": 4,
 "nbformat_minor": 2
}
