{
 "cells": [
  {
   "cell_type": "markdown",
   "metadata": {
    "_uuid": "21c25e4f8bb31570029fd6b069131a5d00f84cf1"
   },
   "source": [
    "# Разведочный анализ данных в задаче об оценках студентов.\n",
    "\n",
    "Будем работать с данными, в которых представлены оценки студентов за экзамены по математике, чтению и письму, а также различные характеристики студентов.\n",
    "\n",
    "## Цели\n",
    "#### 1. Понять, как различные факторы (экономические, социальные, личные) влияют на оценки студентов на экзаменах.\n",
    "#### 2. Познакомиться с библиотекой seaborn.\n",
    "\n",
    "## Источник\n",
    "https://www.kaggle.com/datasets"
   ]
  },
  {
   "cell_type": "markdown",
   "metadata": {
    "_uuid": "1b89f791bf6725555291066adf5ae7b0440c2c46"
   },
   "source": [
    "#### Импортируем необходимые библиотеки"
   ]
  },
  {
   "cell_type": "code",
   "execution_count": null,
   "metadata": {
    "_uuid": "568eb2d31004b87d22e119112ae01a1e75105f1d"
   },
   "outputs": [],
   "source": [
    "import numpy as np\n",
    "import pandas as pd\n",
    "import seaborn as sns\n",
    "import matplotlib.pyplot as plt"
   ]
  },
  {
   "cell_type": "markdown",
   "metadata": {
    "_uuid": "ea0d9f66ad13b0209e6fee799631e83663b23d9f"
   },
   "source": [
    "#### Зафиксируем минимальный балл для сдачи экзамена"
   ]
  },
  {
   "cell_type": "code",
   "execution_count": null,
   "metadata": {
    "_uuid": "0b2a8028554a52c2348772d70fbb1622eec65c04"
   },
   "outputs": [],
   "source": [
    "passmark = 40"
   ]
  },
  {
   "cell_type": "markdown",
   "metadata": {
    "_uuid": "64576ad2924cd795c6ef41b2f7db4cd90bffb2a3"
   },
   "source": [
    "#### Считайте данные из csv файла StudentsPerformance.csv"
   ]
  },
  {
   "cell_type": "code",
   "execution_count": null,
   "metadata": {
    "_uuid": "cf75361436475758b8aa1cd4e677e0dbd4b506d3"
   },
   "outputs": [],
   "source": [
    "#your code here\n",
    "df = ..."
   ]
  },
  {
   "cell_type": "markdown",
   "metadata": {
    "_uuid": "8524af4cbd2f7b7810e8a3095a74c9fe1df7eafa"
   },
   "source": [
    "#### Напечатаем первые несколько строк в таблице"
   ]
  },
  {
   "cell_type": "code",
   "execution_count": null,
   "metadata": {
    "_uuid": "fe62eee87b9b94ab923f57b55eaf0554612aa9e9"
   },
   "outputs": [],
   "source": [
    "df.head()"
   ]
  },
  {
   "cell_type": "markdown",
   "metadata": {
    "_uuid": "5fcd622942b7ecfc318934c6a245d3bb3bf01e84"
   },
   "source": [
    "#### Выведите на экран размеры полученной таблицы"
   ]
  },
  {
   "cell_type": "code",
   "execution_count": null,
   "metadata": {
    "_uuid": "16281cd7b4e941ebed8ca2e1b42f62f55d838684"
   },
   "outputs": [],
   "source": [
    "#your code here"
   ]
  },
  {
   "cell_type": "code",
   "execution_count": null,
   "metadata": {},
   "outputs": [],
   "source": [
    "df.info()"
   ]
  },
  {
   "cell_type": "markdown",
   "metadata": {
    "_uuid": "fe8e3d58d29ca25dbbcf001392377643e6ff9a36"
   },
   "source": [
    "#### Выведите на экран статистические характеристики числовых столбцов таблицы (минимум, максимум, среднее значение, стандартное отклонение)"
   ]
  },
  {
   "cell_type": "code",
   "execution_count": null,
   "metadata": {
    "_uuid": "e3d4bb80d2c4251fe517c24fcf08c5ff2d67b8aa"
   },
   "outputs": [],
   "source": [
    "#your code here"
   ]
  },
  {
   "cell_type": "markdown",
   "metadata": {},
   "source": [
    "Посмотрим на распределение оценок по математике (Math), чтению (Reading) и письму (Writing)."
   ]
  },
  {
   "cell_type": "code",
   "execution_count": null,
   "metadata": {},
   "outputs": [],
   "source": [
    "plt.figure(figsize=(14,6))\n",
    "plt.subplot(1, 4, 1)\n",
    "plt.title('MATH SCORES')\n",
    "sns.violinplot(y='math score',data=df,palette='summer',linewidth=3)\n",
    "plt.subplot(1, 4, 2)\n",
    "plt.title('READING SCORES')\n",
    "sns.violinplot(y='reading score',data=df,palette='Wistia_r',linewidth=3)\n",
    "plt.subplot(1, 4, 3)\n",
    "plt.title('WRITING SCORES')\n",
    "sns.violinplot(y='writing score',data=df,palette='spring',linewidth=3)\n",
    "plt.show()"
   ]
  },
  {
   "cell_type": "markdown",
   "metadata": {},
   "source": [
    "Из графиков видно, что большинство студентов набрали 60-80 по математике и 50-80 по чтению и письму."
   ]
  },
  {
   "cell_type": "markdown",
   "metadata": {
    "_uuid": "b26b7de83485ecb3b8a0a7865a596e24527c7b2f"
   },
   "source": [
    "#### Проверьте, есть ли в таблице пропущенные значения"
   ]
  },
  {
   "cell_type": "code",
   "execution_count": null,
   "metadata": {
    "_uuid": "4eac3f8f83d07c6e58ad1576fe0e773f37034a2f"
   },
   "outputs": [],
   "source": [
    "#your code here"
   ]
  },
  {
   "cell_type": "markdown",
   "metadata": {},
   "source": [
    "**Посмотрим, как зависят оценки от того, проходил ли студент курс для подготовки к сдаче экзамена (test preparation course)\n",
    "и от пола (gender)**\n",
    "\n",
    "Постройте график (гистограмму, любую нравящуюся вам визуализацию) зависимости оценок по математике (math score) от test preparation course и от gender. То же самое - для оценок за reading и writing."
   ]
  },
  {
   "cell_type": "code",
   "execution_count": null,
   "metadata": {},
   "outputs": [],
   "source": [
    "plt.figure(figsize=(20,8))\n",
    "plt.subplot(1, 3, 1)\n",
    "sns.barplot(x='test preparation course',y='math score',data=df,hue='gender',\\\n",
    "           palette='summer')\n",
    "plt.title('MATH SCORES')\n",
    "plt.subplot(1, 3, 2)\n",
    "sns.barplot(x='test preparation course',y='reading score',data=df,hue='gender',\\\n",
    "           palette='summer')\n",
    "plt.title('READING SCORES')\n",
    "plt.subplot(1, 3, 3)\n",
    "sns.barplot(x='test preparation course',y='writing score',data=df,hue='gender',\\\n",
    "           palette='summer')\n",
    "plt.title('WRITING SCORES')\n",
    "plt.show()"
   ]
  },
  {
   "cell_type": "markdown",
   "metadata": {},
   "source": [
    "Какие выводы можно сделать из этих графиков?"
   ]
  },
  {
   "cell_type": "markdown",
   "metadata": {},
   "source": [
    "Следующая функция (pairplot) - это визуализация, которая помогает понять, как связаны между собой все пары признаков."
   ]
  },
  {
   "cell_type": "code",
   "execution_count": null,
   "metadata": {},
   "outputs": [],
   "source": [
    "sns.pairplot(data=df,hue='gender',plot_kws={'alpha':0.2},palette='hot')"
   ]
  },
  {
   "cell_type": "markdown",
   "metadata": {},
   "source": [
    "Как влияет lunch на оценки?\n",
    "\n",
    "Выведите на экран все различные значения из столбца lunch"
   ]
  },
  {
   "cell_type": "code",
   "execution_count": null,
   "metadata": {},
   "outputs": [],
   "source": [
    "#your code here"
   ]
  },
  {
   "cell_type": "markdown",
   "metadata": {},
   "source": [
    "Постройте barplot, отражающий зависимость оценок по math от test preparation course; сделайте разделение по 'lunch'.\n",
    "То же самое - для reading и writing."
   ]
  },
  {
   "cell_type": "code",
   "execution_count": null,
   "metadata": {},
   "outputs": [],
   "source": [
    "#your code here"
   ]
  },
  {
   "cell_type": "markdown",
   "metadata": {},
   "source": [
    "Как зависят баллы от типа lunch?"
   ]
  },
  {
   "cell_type": "markdown",
   "metadata": {
    "_uuid": "cccc10c7a787878ea4ccd5a440a8f3d2bc9c76d3"
   },
   "source": [
    "####  Исследуем оценки по математике (Math)\n",
    "\n",
    "Постройте гистограмму (plt.hist или sns.countplot) распределения оценок студентов по математике."
   ]
  },
  {
   "cell_type": "code",
   "execution_count": null,
   "metadata": {
    "_uuid": "2dad62e7e10d4faf42f23317864c79c3ac904a08",
    "scrolled": false
   },
   "outputs": [],
   "source": [
    "#your code here"
   ]
  },
  {
   "cell_type": "markdown",
   "metadata": {
    "_uuid": "3e832cb427c4314582d1953a41b8c78db75e30e3"
   },
   "source": [
    "#### Сколько студентов успешно сдали экзамен по математике?\n",
    "\n",
    "Создайте новый столбец в таблице df под названием Math_PassStatus и запишите в него F, если студент не сдал экзамен по математике (балл за экзамен < passmark), и P иначе.\n",
    "\n",
    "Посчитайте количество студентов, сдавших и не сдавших экзамен по математике."
   ]
  },
  {
   "cell_type": "code",
   "execution_count": null,
   "metadata": {
    "_uuid": "f43cddb72cc96b30df84bc0de83a4d9170904340"
   },
   "outputs": [],
   "source": [
    "#your code here\n",
    "df['Math_PassStatus'] = ..."
   ]
  },
  {
   "cell_type": "code",
   "execution_count": null,
   "metadata": {
    "scrolled": true
   },
   "outputs": [],
   "source": [
    "df.Math_PassStatus"
   ]
  },
  {
   "cell_type": "markdown",
   "metadata": {},
   "source": [
    "Как зависит успех сдачи экзамена от уровня образования? \n",
    "\n",
    "Постройте гистограмму (countplot) распределения студентов по уровням образования"
   ]
  },
  {
   "cell_type": "code",
   "execution_count": null,
   "metadata": {},
   "outputs": [],
   "source": [
    "#your code here"
   ]
  },
  {
   "cell_type": "markdown",
   "metadata": {},
   "source": [
    "Создайте countplot, отображающий зависимость Math_PassStatus от parental level of education "
   ]
  },
  {
   "cell_type": "code",
   "execution_count": null,
   "metadata": {
    "_uuid": "258633b3d293e00d5d37d4f4571adb180328482a"
   },
   "outputs": [],
   "source": [
    "#your code here"
   ]
  },
  {
   "cell_type": "markdown",
   "metadata": {},
   "source": [
    "По аналогии с колонкой Math_PassStatus создайте колонки Reading_PassStatus и Writing_PassStatus."
   ]
  },
  {
   "cell_type": "code",
   "execution_count": null,
   "metadata": {},
   "outputs": [],
   "source": [
    "#your code here"
   ]
  },
  {
   "cell_type": "markdown",
   "metadata": {
    "_uuid": "b753c90914ee65501e2ed263ea614d88a381c472"
   },
   "source": [
    "#### Сколько студентов успешно сдали все экзамены?\n",
    "\n",
    "Создайте столбец OverAll_PassStatus и запишите в него для каждого студента 'F', если студент не сдал хотя бы один из трех экзаменов, а иначе 'P'.\n",
    "\n",
    "Посчитайте количество студентов, которые сдали все экзамены."
   ]
  },
  {
   "cell_type": "code",
   "execution_count": null,
   "metadata": {
    "_uuid": "e98f895a022b967cab801447b616222439fe9d84"
   },
   "outputs": [],
   "source": [
    "#your code here\n",
    "df['OverAll_PassStatus'] = ..."
   ]
  },
  {
   "cell_type": "markdown",
   "metadata": {},
   "source": [
    "Создайте диаграмму, отображающую зависимость OverAll_PassStatus от parental level of education"
   ]
  },
  {
   "cell_type": "code",
   "execution_count": null,
   "metadata": {
    "_uuid": "616218bdd8992658024bc9485d0bcec61269dd90"
   },
   "outputs": [],
   "source": [
    "#your code here"
   ]
  },
  {
   "cell_type": "markdown",
   "metadata": {
    "_uuid": "84d223387b7df9074ece4f55aba9204fa83b7726"
   },
   "source": [
    "#### Найдем распределение средней оценки за все экзамены:\n",
    "\n",
    "1. Создайте столбец Total_Marks и запишите в него суммарный балл каждого студента за все дисциплины.\n",
    "\n",
    "2. Создайте столбец Percentage, в который запишите средний балл студента за все дисциплины.\n",
    "\n",
    "3. Нарисуйте гистограмму распределения среднего балла."
   ]
  },
  {
   "cell_type": "code",
   "execution_count": null,
   "metadata": {
    "_uuid": "d327e9d26024b53eaa30d49ffe0694780003f216"
   },
   "outputs": [],
   "source": [
    "#your code here\n",
    "df['Total_Marks'] = ...\n",
    "df['Percentage'] = ..."
   ]
  },
  {
   "cell_type": "markdown",
   "metadata": {},
   "source": [
    "**Постройте график, отображающий зависимость итогового балла (Total_Marks) от уровня образования (parental level of education).**"
   ]
  },
  {
   "cell_type": "code",
   "execution_count": null,
   "metadata": {},
   "outputs": [],
   "source": [
    "#your code here"
   ]
  },
  {
   "cell_type": "markdown",
   "metadata": {
    "_uuid": "3af9c6cb4cbfff66d4ae09509f10b8b6ce33075d"
   },
   "source": [
    "#### Переведем баллы в оценки\n",
    "\n",
    "### Система перевода баллов в оценки\n",
    "####    больше 80 = A\n",
    "####      70-80 = B\n",
    "####      60-70 = C\n",
    "####      50-60 = D\n",
    "####      40-50 = E\n",
    "####    меньше 40 = F (Fail)\n",
    "\n",
    "1. Создайте вспомогательную функцию, которая будет по среднему баллу выставлять оценку студенту по данным выше критериям.\n",
    "\n",
    "2. Создайте столбец Grade и запишите в него оценку каждого студента.\n",
    "\n",
    "3. Выведите количество студентов, получивших каждую из оценок."
   ]
  },
  {
   "cell_type": "code",
   "execution_count": null,
   "metadata": {
    "_uuid": "04707c5be4237020b906d2ac705a0db3d620506f"
   },
   "outputs": [],
   "source": [
    "def GetGrade(Percentage):\n",
    "    #your code here\n",
    "    \n",
    "#your code here\n",
    "df['Grade'] = ..."
   ]
  },
  {
   "cell_type": "markdown",
   "metadata": {
    "_uuid": "f2abccff0d8d90a949e5efe401f88707b3b3083b"
   },
   "source": [
    "#### Нарисуем распределение полученных оценок"
   ]
  },
  {
   "cell_type": "code",
   "execution_count": null,
   "metadata": {
    "_uuid": "d8aeb2338a43bb1a69aa8f9a2100639f8cfe6610"
   },
   "outputs": [],
   "source": [
    "sns.countplot(x=\"Grade\", data = df, order=['A','B','C','D','E','F'],  palette=\"muted\")\n",
    "plt.show()"
   ]
  },
  {
   "cell_type": "markdown",
   "metadata": {
    "_uuid": "58927b6c3d0cec0f3618f324314cb7dd5a0d43f6"
   },
   "source": [
    "Нарисуйте гистограмму распределения оценок в зависимости от уровня образования."
   ]
  },
  {
   "cell_type": "code",
   "execution_count": null,
   "metadata": {},
   "outputs": [],
   "source": [
    "#your code here"
   ]
  },
  {
   "cell_type": "markdown",
   "metadata": {
    "_uuid": "53575fb3310f108e286e30f2f791b3791f1df977"
   },
   "source": [
    "Посмотрим на лучших студентов (которые получили больше 90 баллов за каждый экзамен)."
   ]
  },
  {
   "cell_type": "code",
   "execution_count": null,
   "metadata": {},
   "outputs": [],
   "source": [
    "df[(df['math score'] > 90) & (df['reading score'] > 90) & (df['writing score']>90)]\\\n",
    ".sort_values(by=['Total_Marks'],ascending=False)"
   ]
  },
  {
   "cell_type": "markdown",
   "metadata": {},
   "source": [
    "Посмотрим на распределение оценок в зависимости от пола для каждой этнической группы"
   ]
  },
  {
   "cell_type": "code",
   "execution_count": null,
   "metadata": {},
   "outputs": [],
   "source": [
    "plt.figure(figsize=(20,8))\n",
    "plt.subplot(1, 3, 1)\n",
    "plt.title('MATH SCORES')\n",
    "sns.barplot(x='race/ethnicity',y='math score',data=df,hue='gender',palette='Paired')\n",
    "plt.subplot(1, 3, 2)\n",
    "plt.title('READING SCORES')\n",
    "sns.barplot(x='race/ethnicity',y='reading score',data=df,hue='gender',palette='Paired')\n",
    "plt.subplot(1, 3, 3)\n",
    "plt.title('WRITING SCORES')\n",
    "sns.barplot(x='race/ethnicity',y='writing score',data=df,hue='gender',palette='Paired')\n",
    "plt.show()"
   ]
  },
  {
   "cell_type": "markdown",
   "metadata": {},
   "source": [
    "### Сделайте выводы: от какого фактора больше всего зависят оценки студента? от какого фактора они зависят меньше всего? какие зависимости между признаками кажутся вам наиболее значимыми?"
   ]
  },
  {
   "cell_type": "code",
   "execution_count": null,
   "metadata": {},
   "outputs": [],
   "source": [
    "#your code here"
   ]
  }
 ],
 "metadata": {
  "kernelspec": {
   "display_name": "Python 3",
   "language": "python",
   "name": "python3"
  },
  "language_info": {
   "codemirror_mode": {
    "name": "ipython",
    "version": 3
   },
   "file_extension": ".py",
   "mimetype": "text/x-python",
   "name": "python",
   "nbconvert_exporter": "python",
   "pygments_lexer": "ipython3",
   "version": "3.6.6"
  }
 },
 "nbformat": 4,
 "nbformat_minor": 1
}
