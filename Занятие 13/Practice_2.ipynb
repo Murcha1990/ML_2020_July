{
 "cells": [
  {
   "cell_type": "markdown",
   "metadata": {},
   "source": [
    "# Предсказание временных рядов с помощью машинного обучения\n",
    "\n",
    "Поработайте с данными sunspot_numbers.xlsx - это данные о ежемесячном количестве наблюдаемых пятен на солнце.\n",
    "\n",
    "Разбейте данные на train и test (test - последние 15% данных)\n",
    "\n",
    "Следующие пункты можете делать в любом удобном вам порядке.\n",
    "\n",
    "1) Сделайте предсказание с помощью fbprophet и измерьте mse и mae предсказания на train и на test\n",
    "\n",
    "2) Поработайте над созданием новых признаков (лаги, аггрегированные признаки и т.д.) и примените для предсказания линейную регрессию и какой-нибудь нелинейный алгоритм.\n",
    "\n",
    "3) Сравните результаты алгоритмов из п.1) и п.2)\n",
    "\n",
    "4) Сделайте предсказание с помощью модели Хольта-Уинтерса и/или попробуйте применить модели ARIMA/SARIMA для предсказания.\n",
    "\n",
    "Какая модель получилась наилучшей?\n",
    "\n",
    "5) Попробуйте скомбинировать наилучшие модели."
   ]
  },
  {
   "cell_type": "code",
   "execution_count": null,
   "metadata": {},
   "outputs": [],
   "source": [
    "import pandas as pd\n",
    "\n",
    "df = pd.read_excel(\"sunspot_numbers.xlsx\")\n",
    "df.head()"
   ]
  },
  {
   "cell_type": "code",
   "execution_count": null,
   "metadata": {},
   "outputs": [],
   "source": [
    "#your code here"
   ]
  }
 ],
 "metadata": {
  "kernelspec": {
   "display_name": "Python 3",
   "language": "python",
   "name": "python3"
  },
  "language_info": {
   "codemirror_mode": {
    "name": "ipython",
    "version": 3
   },
   "file_extension": ".py",
   "mimetype": "text/x-python",
   "name": "python",
   "nbconvert_exporter": "python",
   "pygments_lexer": "ipython3",
   "version": "3.6.6"
  }
 },
 "nbformat": 4,
 "nbformat_minor": 2
}
